{
 "cells": [
  {
   "cell_type": "markdown",
   "id": "09b121c9-20e1-40bb-8bab-dd3f7637ef23",
   "metadata": {},
   "source": [
    "# RAG QnA Private Document using langchain, Pinecone and OpenAI"
   ]
  },
  {
   "cell_type": "code",
   "execution_count": 22,
   "id": "6df1b0cf-4ec5-4874-8e8a-27bf7c3d4609",
   "metadata": {},
   "outputs": [],
   "source": [
    "import os\n",
    "from pinecone import Pinecone\n",
    "os.environ['OPENAI_API_KEY'] = 'your-openai-apikey'  \n",
    "pc = Pinecone(api_key ='Your-pinecone-apikey')"
   ]
  },
  {
   "cell_type": "code",
   "execution_count": 23,
   "id": "43288a57-7235-4c23-9c61-047bdd35df3e",
   "metadata": {},
   "outputs": [],
   "source": [
    "import os\n",
    "os.environ['PINECONE_API_KEY'] = 'Your-pinecone-apikey'\n"
   ]
  },
  {
   "cell_type": "markdown",
   "id": "a9e4bf07-7bc1-40f4-b7d0-5993034a64ba",
   "metadata": {},
   "source": [
    "## Loading the document"
   ]
  },
  {
   "cell_type": "code",
   "execution_count": 24,
   "id": "b9fc79e6-e1eb-48c5-8068-9398c63fbf59",
   "metadata": {},
   "outputs": [],
   "source": [
    "def load_document(file):\n",
    "    from langchain.document_loaders import PyPDFLoader\n",
    "    print(f'loading {file})')\n",
    "    loader = PyPDFLoader(file)\n",
    "    data = loader.load()\n",
    "    return data"
   ]
  },
  {
   "cell_type": "code",
   "execution_count": 25,
   "id": "cea81165-aa4d-47cd-9dfd-feceb81ebb23",
   "metadata": {},
   "outputs": [
    {
     "name": "stdout",
     "output_type": "stream",
     "text": [
      "loading C:\\Users\\Kaustubh\\Downloads\\gdpr.pdf)\n"
     ]
    }
   ],
   "source": [
    "data= load_document(r'C:\\Users\\Kaustubh\\Downloads\\gdpr.pdf')"
   ]
  },
  {
   "cell_type": "markdown",
   "id": "61adac2a-2b46-4762-b4eb-3fb87cc72250",
   "metadata": {},
   "source": [
    "## Chunking"
   ]
  },
  {
   "cell_type": "code",
   "execution_count": 26,
   "id": "26995517-8a21-4cda-a5da-6e31b55afe5a",
   "metadata": {},
   "outputs": [],
   "source": [
    "def chunk_data(data, chunk_size=256):\n",
    "    from langchain.text_splitter import RecursiveCharacterTextSplitter\n",
    "    text_splitter = RecursiveCharacterTextSplitter(chunk_size=chunk_size, chunk_overlap=0)\n",
    "    chunks = text_splitter.split_documents(data)\n",
    "    return chunks\n",
    "\n",
    "chunks =chunk_data(data)"
   ]
  },
  {
   "cell_type": "code",
   "execution_count": 31,
   "id": "5df0cb56-7889-423b-9416-4a412a83f38b",
   "metadata": {},
   "outputs": [
    {
     "name": "stdout",
     "output_type": "stream",
     "text": [
      "1724\n"
     ]
    }
   ],
   "source": [
    "print(len(chunks))"
   ]
  },
  {
   "cell_type": "markdown",
   "id": "c8198fe4-ef79-4818-9f92-d2e3ad5a1187",
   "metadata": {},
   "source": [
    "## Embedding and uploading to vector Database (Pinecone)"
   ]
  },
  {
   "cell_type": "code",
   "execution_count": 32,
   "id": "eefba4e8-ca85-4d10-b594-95558875d509",
   "metadata": {},
   "outputs": [],
   "source": [
    "def insert_or_fetch_embedding(index_name, chunks):\n",
    "    import pinecone\n",
    "    from langchain_community.vectorstores import Pinecone\n",
    "    from langchain_openai import OpenAIEmbeddings\n",
    "    from pinecone import PodSpec\n",
    "    \n",
    "    pc= pinecone.Pinecone(api_key ='Your-pinecone-apikey')\n",
    "    embeddings = OpenAIEmbeddings(model ='text-embedding-3-small', dimensions = 1536)\n",
    "\n",
    "    if index_name in pc.list_indexes().names():\n",
    "        print(f'Index already exists',end='')\n",
    "        vector_store = Pinecone.from_existing_index(index_name, embeddings)\n",
    "        print('OK')\n",
    "    else:\n",
    "        print('creating index',end='')\n",
    "        pc.create_index(\n",
    "            name= index_name,\n",
    "            dimension= 1536,\n",
    "            metric = 'cosine',\n",
    "            spec= PodSpec(environment ='gcp-starter')\n",
    "        )\n",
    "        vector_store= Pinecone.from_documents(chunks, embeddings, index_name= index_name)\n",
    "        print('OK')\n",
    "        return vector_store"
   ]
  },
  {
   "cell_type": "code",
   "execution_count": 34,
   "id": "86f9f192-7ec6-418c-8736-632900b18f87",
   "metadata": {},
   "outputs": [
    {
     "name": "stdout",
     "output_type": "stream",
     "text": [
      "creating indexOK\n"
     ]
    }
   ],
   "source": [
    "index_name = 'gdpr-compliant-index'\n",
    "vector_store = insert_or_fetch_embedding(index_name, chunks)"
   ]
  },
  {
   "cell_type": "markdown",
   "id": "23ba5859-9c90-4ec2-820a-37579099ded0",
   "metadata": {},
   "source": [
    "## Asking and getting answer"
   ]
  },
  {
   "cell_type": "code",
   "execution_count": 35,
   "id": "399c14f8-a10d-4e42-9792-adf280af30c0",
   "metadata": {},
   "outputs": [],
   "source": [
    "def ask_and_get_answer(vector_store, q):\n",
    "    from langchain.chains import RetrievalQA\n",
    "    from langchain_openai import ChatOpenAI\n",
    "    \n",
    "    llm = ChatOpenAI(model='gpt-4o-mini',temperature=1)\n",
    "\n",
    "    retriever = vector_store.as_retriever(search_type ='similarity',search_kwargs={'k':3})\n",
    "\n",
    "    chain = RetrievalQA.from_chain_type(llm=llm, chain_type = \"stuff\", retriever=retriever)\n",
    "    answer = chain.run(q)\n",
    "    return answer"
   ]
  },
  {
   "cell_type": "code",
   "execution_count": 37,
   "id": "6c290e02-9c84-40d6-90a0-ee001c385415",
   "metadata": {},
   "outputs": [
    {
     "name": "stdout",
     "output_type": "stream",
     "text": [
      "type quite or exit to quite\n"
     ]
    },
    {
     "name": "stdin",
     "output_type": "stream",
     "text": [
      "Question #1: What is the document all about?\n"
     ]
    },
    {
     "name": "stdout",
     "output_type": "stream",
     "text": [
      "Answer =The document appears to discuss the processing and public access to official documents, particularly focusing on personal data held by public authorities or bodies. It emphasizes the importance of promoting knowledge and documentation on data protection legislation and practices, as well as the public interest in accessing official documents. It also highlights the disclosure of personal data in documents held by public entities. \n",
      "\n",
      " --------------------------------------------------\n"
     ]
    },
    {
     "name": "stdin",
     "output_type": "stream",
     "text": [
      "Question #2:  What documentation do we need to prove that we're GDPR compliant?\n"
     ]
    },
    {
     "name": "stdout",
     "output_type": "stream",
     "text": [
      "Answer =To prove GDPR compliance, you may need to maintain several types of documentation, including:\n",
      "\n",
      "1. Records of processing activities: Document the personal data you process, the purpose of processing, how long you keep the data, and who it is shared with.\n",
      "2. Data protection policies and procedures: Having clear written policies on data protection, including breach response procedures.\n",
      "3. Data protection impact assessments (DPIAs): If your processing poses a high risk to individuals’ rights, conducting DPIAs is necessary to identify and mitigate those risks.\n",
      "4. Consent records: Documentation of how consent is obtained from individuals for processing their personal data, including what information was provided to them.\n",
      "5. Contracts with processors: Maintain records of contracts with any third-party processors to ensure they comply with GDPR requirements.\n",
      "6. Training records: Documentation that employees are trained in data protection and GDPR compliance.\n",
      "7. Certification: If applicable, obtaining certifications such as the European Data Protection Seal can help demonstrate compliance.\n",
      "\n",
      "It's essential to have a clear and organized approach to these documents to show compliance with GDPR regulations. \n",
      "\n",
      " --------------------------------------------------\n"
     ]
    },
    {
     "name": "stdin",
     "output_type": "stream",
     "text": [
      "Question #3: What are the penalties for non-compliance with GDPR?\n"
     ]
    },
    {
     "name": "stdout",
     "output_type": "stream",
     "text": [
      "Answer =I don't know. \n",
      "\n",
      " --------------------------------------------------\n"
     ]
    },
    {
     "name": "stdin",
     "output_type": "stream",
     "text": [
      "Question #4: How would you conduct a data protection impact assessment (DPIA)?\n"
     ]
    },
    {
     "name": "stdout",
     "output_type": "stream",
     "text": [
      "Answer =I don't know. \n",
      "\n",
      " --------------------------------------------------\n"
     ]
    },
    {
     "name": "stdin",
     "output_type": "stream",
     "text": [
      "Question #5: What are GDPR fundamental rights?\n"
     ]
    },
    {
     "name": "stdout",
     "output_type": "stream",
     "text": [
      "Answer =The General Data Protection Regulation (GDPR) establishes several fundamental rights for individuals regarding the processing of their personal data. These rights include:\n",
      "\n",
      "1. **Right to Access**: Individuals have the right to know whether their personal data is being processed and to access that data.\n",
      "  \n",
      "2. **Right to Rectification**: Individuals can request the correction of inaccurate or incomplete personal data.\n",
      "\n",
      "3. **Right to Erasure** (Right to be Forgotten): Individuals have the right to request the deletion of their personal data under certain circumstances.\n",
      "\n",
      "4. **Right to Restriction of Processing**: Individuals can request that the processing of their personal data be restricted.\n",
      "\n",
      "5. **Right to Data Portability**: Individuals have the right to obtain and reuse their personal data for their own purposes across different services.\n",
      "\n",
      "6. **Right to Object**: Individuals can object to the processing of their personal data in certain situations.\n",
      "\n",
      "7. **Rights in relation to automated decision-making and profiling**: Individuals have rights concerning automated decisions made about them, including profiling.\n",
      "\n",
      "These rights are designed to protect the personal data and privacy of individuals within the EU and give them greater control over their personal information. \n",
      "\n",
      " --------------------------------------------------\n"
     ]
    },
    {
     "name": "stdin",
     "output_type": "stream",
     "text": [
      "Question #6: What are the penalties for GDPR breaches?\n"
     ]
    },
    {
     "name": "stdout",
     "output_type": "stream",
     "text": [
      "Answer =I don't know. \n",
      "\n",
      " --------------------------------------------------\n"
     ]
    },
    {
     "name": "stdin",
     "output_type": "stream",
     "text": [
      "Question #7: exit\n"
     ]
    },
    {
     "name": "stdout",
     "output_type": "stream",
     "text": [
      "Goodbye\n"
     ]
    }
   ],
   "source": [
    "i =1\n",
    "print('type quite or exit to quite')\n",
    "while True:\n",
    "    q=input(f'Question #{i}:')\n",
    "    i=i+1\n",
    "    if q.lower() in ['quite','exit']:\n",
    "        print('Goodbye')\n",
    "        break\n",
    "    answer = ask_and_get_answer(vector_store, q)\n",
    "    print(f'Answer ={answer} ')\n",
    "    print(f'\\n {\"-\"*50}')"
   ]
  },
  {
   "cell_type": "code",
   "execution_count": null,
   "id": "3f209784-b627-440c-b2d4-9a081f24cfd4",
   "metadata": {},
   "outputs": [],
   "source": []
  }
 ],
 "metadata": {
  "kernelspec": {
   "display_name": "Python 3 (ipykernel)",
   "language": "python",
   "name": "python3"
  },
  "language_info": {
   "codemirror_mode": {
    "name": "ipython",
    "version": 3
   },
   "file_extension": ".py",
   "mimetype": "text/x-python",
   "name": "python",
   "nbconvert_exporter": "python",
   "pygments_lexer": "ipython3",
   "version": "3.11.4"
  }
 },
 "nbformat": 4,
 "nbformat_minor": 5
}
